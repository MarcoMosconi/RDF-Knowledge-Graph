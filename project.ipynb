{
  "cells": [
    {
      "cell_type": "markdown",
      "metadata": {
        "id": "view-in-github",
        "colab_type": "text"
      },
      "source": [
        "<a href=\"https://colab.research.google.com/github/MarcoMosconi/RDF-Knowledge-Graph/blob/main/project.ipynb\" target=\"_parent\"><img src=\"https://colab.research.google.com/assets/colab-badge.svg\" alt=\"Open In Colab\"/></a>"
      ]
    },
    {
      "cell_type": "code",
      "execution_count": null,
      "metadata": {
        "id": "a64cbc05-9988-4261-93c5-4af7ce59aee1"
      },
      "outputs": [],
      "source": [
        "# requirements\n",
        "!pip install -q rdflib sparqlwrapper owlrl gdown pandas wikipedia-api"
      ],
      "id": "a64cbc05-9988-4261-93c5-4af7ce59aee1"
    },
    {
      "cell_type": "code",
      "execution_count": null,
      "metadata": {
        "id": "2fa54075-b30d-4e94-9d41-5111cb90aaa3"
      },
      "outputs": [],
      "source": [
        "import gdown\n",
        "import os\n",
        "import pandas as pd\n",
        "from rdflib import Graph, URIRef, BNode, Literal, FOAF, RDF, RDFS, XSD, Namespace\n",
        "from SPARQLWrapper import SPARQLWrapper\n",
        "import math\n",
        "from dateutil import parser\n",
        "import wikipediaapi\n",
        "from urllib.parse import urlparse\n",
        "from time import sleep\n",
        "import owlrl\n",
        "sparql = SPARQLWrapper(\"https://dbpedia.org/sparql\")"
      ],
      "id": "2fa54075-b30d-4e94-9d41-5111cb90aaa3"
    },
    {
      "cell_type": "code",
      "source": [
        "!pip freeze > requirements.txt"
      ],
      "metadata": {
        "id": "S0O39mbimFrI"
      },
      "id": "S0O39mbimFrI",
      "execution_count": null,
      "outputs": []
    },
    {
      "cell_type": "code",
      "execution_count": null,
      "metadata": {
        "id": "c86133b5-6fe3-4223-90e8-7349d8d4f6c8"
      },
      "outputs": [],
      "source": [
        "# create directory for data\n",
        "if not os.path.exists(\"./data/\"):\n",
        "    os.mkdir(\"./data/\")"
      ],
      "id": "c86133b5-6fe3-4223-90e8-7349d8d4f6c8"
    },
    {
      "cell_type": "code",
      "execution_count": null,
      "metadata": {
        "colab": {
          "base_uri": "https://localhost:8080/",
          "height": 35
        },
        "id": "21a73c00-3fbe-4a50-9f5b-f8d6e077bb67",
        "outputId": "c574fdee-a07f-4842-dc4e-1a8f494e434f"
      },
      "outputs": [
        {
          "output_type": "execute_result",
          "data": {
            "text/plain": [
              "'./data/albumlist.csv'"
            ],
            "application/vnd.google.colaboratory.intrinsic+json": {
              "type": "string"
            }
          },
          "metadata": {},
          "execution_count": 5
        }
      ],
      "source": [
        "# Download data\n",
        "gdown.download(id=\"1UILSMenvqzFMsIhV6l4ZV1opJpRQZnwC\", output=\"./data/rym_top_5000_all_time.csv\", quiet=True)\n",
        "gdown.download(id=\"1UNJ2iDX-xoWIekSA0ZwoqNOk3eAZjqrp\", output=\"./data/albumlist.csv\", quiet=True)"
      ],
      "id": "21a73c00-3fbe-4a50-9f5b-f8d6e077bb67"
    },
    {
      "cell_type": "markdown",
      "metadata": {
        "id": "0715d141-bac3-4529-946e-4776452e88fe"
      },
      "source": [
        "# **KRR Module 2 2022/23 Project**\n",
        "\n",
        "The project consists in the creation of an RDF knowledge graph starting from tabular data (two CSV files loaded below).\n",
        "\n",
        "You should cover all of the following steps."
      ],
      "id": "0715d141-bac3-4529-946e-4776452e88fe"
    },
    {
      "cell_type": "markdown",
      "metadata": {
        "id": "64fdd5ae-67d2-4ce3-88af-6373858335e4"
      },
      "source": [
        "### **`1. Create an RDFLib Graph from data contained in CSV files`**\n",
        "\n",
        "In steps:\n",
        "1) Load the CSV files in two pandas DataFrames and join them\n",
        "2) Create an RDFLib `Graph` and add triples from the data of the dataframes"
      ],
      "id": "64fdd5ae-67d2-4ce3-88af-6373858335e4"
    },
    {
      "cell_type": "markdown",
      "metadata": {
        "id": "9a535cbc-bb72-406e-8944-2b2f30dc94dc"
      },
      "source": [
        "Useful links:\n",
        "\n",
        "- [Pandas user guide](https://pandas.pydata.org/docs/user_guide/index.html) and [documentation](https://pandas.pydata.org/docs/reference/), e.g.:\n",
        "    - [10 minutes to pandas](https://pandas.pydata.org/docs/user_guide/10min.html)\n",
        "    - [Join dataframes](https://pandas.pydata.org/docs/user_guide/10min.html#join)\n",
        "    - [Splitting and replacing strings](https://pandas.pydata.org/docs/user_guide/text.html#splitting-and-replacing-strings)\n",
        "    - [Apply a function over an axis of a DataFrame](https://pandas.pydata.org/docs/reference/api/pandas.DataFrame.apply.html?highlight=apply#pandas.DataFrame.apply)"
      ],
      "id": "9a535cbc-bb72-406e-8944-2b2f30dc94dc"
    },
    {
      "cell_type": "code",
      "execution_count": null,
      "metadata": {
        "colab": {
          "base_uri": "https://localhost:8080/",
          "height": 206
        },
        "id": "530f8ed4-604e-4489-93c5-425372ae6745",
        "outputId": "a6d97c7f-ce93-49c5-ea09-f3029e143f00"
      },
      "outputs": [
        {
          "output_type": "execute_result",
          "data": {
            "text/plain": [
              "   Number  Year                                  Album          Artist  \\\n",
              "0       1  1967  Sgt. Pepper's Lonely Hearts Club Band     The Beatles   \n",
              "1       2  1966                             Pet Sounds  The Beach Boys   \n",
              "2       3  1966                               Revolver     The Beatles   \n",
              "3       4  1965                   Highway 61 Revisited       Bob Dylan   \n",
              "4       5  1965                            Rubber Soul     The Beatles   \n",
              "\n",
              "       Genre                       Subgenre  \n",
              "0       Rock  Rock & Roll, Psychedelic Rock  \n",
              "1       Rock     Pop Rock, Psychedelic Rock  \n",
              "2       Rock     Psychedelic Rock, Pop Rock  \n",
              "3       Rock          Folk Rock, Blues Rock  \n",
              "4  Rock, Pop                       Pop Rock  "
            ],
            "text/html": [
              "\n",
              "  <div id=\"df-27ffff71-0ddb-43a7-b3ea-527659c831b1\">\n",
              "    <div class=\"colab-df-container\">\n",
              "      <div>\n",
              "<style scoped>\n",
              "    .dataframe tbody tr th:only-of-type {\n",
              "        vertical-align: middle;\n",
              "    }\n",
              "\n",
              "    .dataframe tbody tr th {\n",
              "        vertical-align: top;\n",
              "    }\n",
              "\n",
              "    .dataframe thead th {\n",
              "        text-align: right;\n",
              "    }\n",
              "</style>\n",
              "<table border=\"1\" class=\"dataframe\">\n",
              "  <thead>\n",
              "    <tr style=\"text-align: right;\">\n",
              "      <th></th>\n",
              "      <th>Number</th>\n",
              "      <th>Year</th>\n",
              "      <th>Album</th>\n",
              "      <th>Artist</th>\n",
              "      <th>Genre</th>\n",
              "      <th>Subgenre</th>\n",
              "    </tr>\n",
              "  </thead>\n",
              "  <tbody>\n",
              "    <tr>\n",
              "      <th>0</th>\n",
              "      <td>1</td>\n",
              "      <td>1967</td>\n",
              "      <td>Sgt. Pepper's Lonely Hearts Club Band</td>\n",
              "      <td>The Beatles</td>\n",
              "      <td>Rock</td>\n",
              "      <td>Rock &amp; Roll, Psychedelic Rock</td>\n",
              "    </tr>\n",
              "    <tr>\n",
              "      <th>1</th>\n",
              "      <td>2</td>\n",
              "      <td>1966</td>\n",
              "      <td>Pet Sounds</td>\n",
              "      <td>The Beach Boys</td>\n",
              "      <td>Rock</td>\n",
              "      <td>Pop Rock, Psychedelic Rock</td>\n",
              "    </tr>\n",
              "    <tr>\n",
              "      <th>2</th>\n",
              "      <td>3</td>\n",
              "      <td>1966</td>\n",
              "      <td>Revolver</td>\n",
              "      <td>The Beatles</td>\n",
              "      <td>Rock</td>\n",
              "      <td>Psychedelic Rock, Pop Rock</td>\n",
              "    </tr>\n",
              "    <tr>\n",
              "      <th>3</th>\n",
              "      <td>4</td>\n",
              "      <td>1965</td>\n",
              "      <td>Highway 61 Revisited</td>\n",
              "      <td>Bob Dylan</td>\n",
              "      <td>Rock</td>\n",
              "      <td>Folk Rock, Blues Rock</td>\n",
              "    </tr>\n",
              "    <tr>\n",
              "      <th>4</th>\n",
              "      <td>5</td>\n",
              "      <td>1965</td>\n",
              "      <td>Rubber Soul</td>\n",
              "      <td>The Beatles</td>\n",
              "      <td>Rock, Pop</td>\n",
              "      <td>Pop Rock</td>\n",
              "    </tr>\n",
              "  </tbody>\n",
              "</table>\n",
              "</div>\n",
              "      <button class=\"colab-df-convert\" onclick=\"convertToInteractive('df-27ffff71-0ddb-43a7-b3ea-527659c831b1')\"\n",
              "              title=\"Convert this dataframe to an interactive table.\"\n",
              "              style=\"display:none;\">\n",
              "        \n",
              "  <svg xmlns=\"http://www.w3.org/2000/svg\" height=\"24px\"viewBox=\"0 0 24 24\"\n",
              "       width=\"24px\">\n",
              "    <path d=\"M0 0h24v24H0V0z\" fill=\"none\"/>\n",
              "    <path d=\"M18.56 5.44l.94 2.06.94-2.06 2.06-.94-2.06-.94-.94-2.06-.94 2.06-2.06.94zm-11 1L8.5 8.5l.94-2.06 2.06-.94-2.06-.94L8.5 2.5l-.94 2.06-2.06.94zm10 10l.94 2.06.94-2.06 2.06-.94-2.06-.94-.94-2.06-.94 2.06-2.06.94z\"/><path d=\"M17.41 7.96l-1.37-1.37c-.4-.4-.92-.59-1.43-.59-.52 0-1.04.2-1.43.59L10.3 9.45l-7.72 7.72c-.78.78-.78 2.05 0 2.83L4 21.41c.39.39.9.59 1.41.59.51 0 1.02-.2 1.41-.59l7.78-7.78 2.81-2.81c.8-.78.8-2.07 0-2.86zM5.41 20L4 18.59l7.72-7.72 1.47 1.35L5.41 20z\"/>\n",
              "  </svg>\n",
              "      </button>\n",
              "      \n",
              "  <style>\n",
              "    .colab-df-container {\n",
              "      display:flex;\n",
              "      flex-wrap:wrap;\n",
              "      gap: 12px;\n",
              "    }\n",
              "\n",
              "    .colab-df-convert {\n",
              "      background-color: #E8F0FE;\n",
              "      border: none;\n",
              "      border-radius: 50%;\n",
              "      cursor: pointer;\n",
              "      display: none;\n",
              "      fill: #1967D2;\n",
              "      height: 32px;\n",
              "      padding: 0 0 0 0;\n",
              "      width: 32px;\n",
              "    }\n",
              "\n",
              "    .colab-df-convert:hover {\n",
              "      background-color: #E2EBFA;\n",
              "      box-shadow: 0px 1px 2px rgba(60, 64, 67, 0.3), 0px 1px 3px 1px rgba(60, 64, 67, 0.15);\n",
              "      fill: #174EA6;\n",
              "    }\n",
              "\n",
              "    [theme=dark] .colab-df-convert {\n",
              "      background-color: #3B4455;\n",
              "      fill: #D2E3FC;\n",
              "    }\n",
              "\n",
              "    [theme=dark] .colab-df-convert:hover {\n",
              "      background-color: #434B5C;\n",
              "      box-shadow: 0px 1px 3px 1px rgba(0, 0, 0, 0.15);\n",
              "      filter: drop-shadow(0px 1px 2px rgba(0, 0, 0, 0.3));\n",
              "      fill: #FFFFFF;\n",
              "    }\n",
              "  </style>\n",
              "\n",
              "      <script>\n",
              "        const buttonEl =\n",
              "          document.querySelector('#df-27ffff71-0ddb-43a7-b3ea-527659c831b1 button.colab-df-convert');\n",
              "        buttonEl.style.display =\n",
              "          google.colab.kernel.accessAllowed ? 'block' : 'none';\n",
              "\n",
              "        async function convertToInteractive(key) {\n",
              "          const element = document.querySelector('#df-27ffff71-0ddb-43a7-b3ea-527659c831b1');\n",
              "          const dataTable =\n",
              "            await google.colab.kernel.invokeFunction('convertToInteractive',\n",
              "                                                     [key], {});\n",
              "          if (!dataTable) return;\n",
              "\n",
              "          const docLinkHtml = 'Like what you see? Visit the ' +\n",
              "            '<a target=\"_blank\" href=https://colab.research.google.com/notebooks/data_table.ipynb>data table notebook</a>'\n",
              "            + ' to learn more about interactive tables.';\n",
              "          element.innerHTML = '';\n",
              "          dataTable['output_type'] = 'display_data';\n",
              "          await google.colab.output.renderOutput(dataTable, element);\n",
              "          const docLink = document.createElement('div');\n",
              "          docLink.innerHTML = docLinkHtml;\n",
              "          element.appendChild(docLink);\n",
              "        }\n",
              "      </script>\n",
              "    </div>\n",
              "  </div>\n",
              "  "
            ]
          },
          "metadata": {},
          "execution_count": 6
        }
      ],
      "source": [
        "df1 = pd.read_csv('data/albumlist.csv', encoding='mac_roman')\n",
        "df1.head()"
      ],
      "id": "530f8ed4-604e-4489-93c5-425372ae6745"
    },
    {
      "cell_type": "code",
      "execution_count": null,
      "metadata": {
        "colab": {
          "base_uri": "https://localhost:8080/",
          "height": 354
        },
        "id": "4c614dab-619c-455c-bd63-565ff79619e9",
        "outputId": "26207d64-7a77-4af2-cce7-5a9a5a36b6d0"
      },
      "outputs": [
        {
          "output_type": "execute_result",
          "data": {
            "text/plain": [
              "   Ranking                             Album     Artist Name  \\\n",
              "0      1.0                       OK Computer       Radiohead   \n",
              "1      2.0                Wish You Were Here      Pink Floyd   \n",
              "2      3.0  In the Court of the Crimson King    King Crimson   \n",
              "3      4.0                             Kid A       Radiohead   \n",
              "4      5.0               To Pimp a Butterfly  Kendrick Lamar   \n",
              "\n",
              "        Release Date                                           Genres  \\\n",
              "0       16 June 1997                       Alternative Rock, Art Rock   \n",
              "1  12 September 1975                       Progressive Rock, Art Rock   \n",
              "2    10 October 1969                       Progressive Rock, Art Rock   \n",
              "3     3 October 2000          Art Rock, Experimental Rock, Electronic   \n",
              "4      15 March 2015  Conscious Hip Hop, West Coast Hip Hop, Jazz Rap   \n",
              "\n",
              "                                         Descriptors  Average Rating  \\\n",
              "0  melancholic, anxious, futuristic, alienation, ...            4.23   \n",
              "1  melancholic, atmospheric, progressive, male vo...            4.29   \n",
              "2  fantasy, epic, progressive, philosophical, com...            4.30   \n",
              "3  cold, melancholic, futuristic, atmospheric, an...            4.21   \n",
              "4  political, conscious, poetic, protest, concept...            4.27   \n",
              "\n",
              "  Number of Ratings  Number of Reviews  \n",
              "0            70,382               1531  \n",
              "1            48,662                983  \n",
              "2            44,943                870  \n",
              "3            58,590                734  \n",
              "4            44,206                379  "
            ],
            "text/html": [
              "\n",
              "  <div id=\"df-70867f34-d41a-4f69-92f6-11b96dd8fbb1\">\n",
              "    <div class=\"colab-df-container\">\n",
              "      <div>\n",
              "<style scoped>\n",
              "    .dataframe tbody tr th:only-of-type {\n",
              "        vertical-align: middle;\n",
              "    }\n",
              "\n",
              "    .dataframe tbody tr th {\n",
              "        vertical-align: top;\n",
              "    }\n",
              "\n",
              "    .dataframe thead th {\n",
              "        text-align: right;\n",
              "    }\n",
              "</style>\n",
              "<table border=\"1\" class=\"dataframe\">\n",
              "  <thead>\n",
              "    <tr style=\"text-align: right;\">\n",
              "      <th></th>\n",
              "      <th>Ranking</th>\n",
              "      <th>Album</th>\n",
              "      <th>Artist Name</th>\n",
              "      <th>Release Date</th>\n",
              "      <th>Genres</th>\n",
              "      <th>Descriptors</th>\n",
              "      <th>Average Rating</th>\n",
              "      <th>Number of Ratings</th>\n",
              "      <th>Number of Reviews</th>\n",
              "    </tr>\n",
              "  </thead>\n",
              "  <tbody>\n",
              "    <tr>\n",
              "      <th>0</th>\n",
              "      <td>1.0</td>\n",
              "      <td>OK Computer</td>\n",
              "      <td>Radiohead</td>\n",
              "      <td>16 June 1997</td>\n",
              "      <td>Alternative Rock, Art Rock</td>\n",
              "      <td>melancholic, anxious, futuristic, alienation, ...</td>\n",
              "      <td>4.23</td>\n",
              "      <td>70,382</td>\n",
              "      <td>1531</td>\n",
              "    </tr>\n",
              "    <tr>\n",
              "      <th>1</th>\n",
              "      <td>2.0</td>\n",
              "      <td>Wish You Were Here</td>\n",
              "      <td>Pink Floyd</td>\n",
              "      <td>12 September 1975</td>\n",
              "      <td>Progressive Rock, Art Rock</td>\n",
              "      <td>melancholic, atmospheric, progressive, male vo...</td>\n",
              "      <td>4.29</td>\n",
              "      <td>48,662</td>\n",
              "      <td>983</td>\n",
              "    </tr>\n",
              "    <tr>\n",
              "      <th>2</th>\n",
              "      <td>3.0</td>\n",
              "      <td>In the Court of the Crimson King</td>\n",
              "      <td>King Crimson</td>\n",
              "      <td>10 October 1969</td>\n",
              "      <td>Progressive Rock, Art Rock</td>\n",
              "      <td>fantasy, epic, progressive, philosophical, com...</td>\n",
              "      <td>4.30</td>\n",
              "      <td>44,943</td>\n",
              "      <td>870</td>\n",
              "    </tr>\n",
              "    <tr>\n",
              "      <th>3</th>\n",
              "      <td>4.0</td>\n",
              "      <td>Kid A</td>\n",
              "      <td>Radiohead</td>\n",
              "      <td>3 October 2000</td>\n",
              "      <td>Art Rock, Experimental Rock, Electronic</td>\n",
              "      <td>cold, melancholic, futuristic, atmospheric, an...</td>\n",
              "      <td>4.21</td>\n",
              "      <td>58,590</td>\n",
              "      <td>734</td>\n",
              "    </tr>\n",
              "    <tr>\n",
              "      <th>4</th>\n",
              "      <td>5.0</td>\n",
              "      <td>To Pimp a Butterfly</td>\n",
              "      <td>Kendrick Lamar</td>\n",
              "      <td>15 March 2015</td>\n",
              "      <td>Conscious Hip Hop, West Coast Hip Hop, Jazz Rap</td>\n",
              "      <td>political, conscious, poetic, protest, concept...</td>\n",
              "      <td>4.27</td>\n",
              "      <td>44,206</td>\n",
              "      <td>379</td>\n",
              "    </tr>\n",
              "  </tbody>\n",
              "</table>\n",
              "</div>\n",
              "      <button class=\"colab-df-convert\" onclick=\"convertToInteractive('df-70867f34-d41a-4f69-92f6-11b96dd8fbb1')\"\n",
              "              title=\"Convert this dataframe to an interactive table.\"\n",
              "              style=\"display:none;\">\n",
              "        \n",
              "  <svg xmlns=\"http://www.w3.org/2000/svg\" height=\"24px\"viewBox=\"0 0 24 24\"\n",
              "       width=\"24px\">\n",
              "    <path d=\"M0 0h24v24H0V0z\" fill=\"none\"/>\n",
              "    <path d=\"M18.56 5.44l.94 2.06.94-2.06 2.06-.94-2.06-.94-.94-2.06-.94 2.06-2.06.94zm-11 1L8.5 8.5l.94-2.06 2.06-.94-2.06-.94L8.5 2.5l-.94 2.06-2.06.94zm10 10l.94 2.06.94-2.06 2.06-.94-2.06-.94-.94-2.06-.94 2.06-2.06.94z\"/><path d=\"M17.41 7.96l-1.37-1.37c-.4-.4-.92-.59-1.43-.59-.52 0-1.04.2-1.43.59L10.3 9.45l-7.72 7.72c-.78.78-.78 2.05 0 2.83L4 21.41c.39.39.9.59 1.41.59.51 0 1.02-.2 1.41-.59l7.78-7.78 2.81-2.81c.8-.78.8-2.07 0-2.86zM5.41 20L4 18.59l7.72-7.72 1.47 1.35L5.41 20z\"/>\n",
              "  </svg>\n",
              "      </button>\n",
              "      \n",
              "  <style>\n",
              "    .colab-df-container {\n",
              "      display:flex;\n",
              "      flex-wrap:wrap;\n",
              "      gap: 12px;\n",
              "    }\n",
              "\n",
              "    .colab-df-convert {\n",
              "      background-color: #E8F0FE;\n",
              "      border: none;\n",
              "      border-radius: 50%;\n",
              "      cursor: pointer;\n",
              "      display: none;\n",
              "      fill: #1967D2;\n",
              "      height: 32px;\n",
              "      padding: 0 0 0 0;\n",
              "      width: 32px;\n",
              "    }\n",
              "\n",
              "    .colab-df-convert:hover {\n",
              "      background-color: #E2EBFA;\n",
              "      box-shadow: 0px 1px 2px rgba(60, 64, 67, 0.3), 0px 1px 3px 1px rgba(60, 64, 67, 0.15);\n",
              "      fill: #174EA6;\n",
              "    }\n",
              "\n",
              "    [theme=dark] .colab-df-convert {\n",
              "      background-color: #3B4455;\n",
              "      fill: #D2E3FC;\n",
              "    }\n",
              "\n",
              "    [theme=dark] .colab-df-convert:hover {\n",
              "      background-color: #434B5C;\n",
              "      box-shadow: 0px 1px 3px 1px rgba(0, 0, 0, 0.15);\n",
              "      filter: drop-shadow(0px 1px 2px rgba(0, 0, 0, 0.3));\n",
              "      fill: #FFFFFF;\n",
              "    }\n",
              "  </style>\n",
              "\n",
              "      <script>\n",
              "        const buttonEl =\n",
              "          document.querySelector('#df-70867f34-d41a-4f69-92f6-11b96dd8fbb1 button.colab-df-convert');\n",
              "        buttonEl.style.display =\n",
              "          google.colab.kernel.accessAllowed ? 'block' : 'none';\n",
              "\n",
              "        async function convertToInteractive(key) {\n",
              "          const element = document.querySelector('#df-70867f34-d41a-4f69-92f6-11b96dd8fbb1');\n",
              "          const dataTable =\n",
              "            await google.colab.kernel.invokeFunction('convertToInteractive',\n",
              "                                                     [key], {});\n",
              "          if (!dataTable) return;\n",
              "\n",
              "          const docLinkHtml = 'Like what you see? Visit the ' +\n",
              "            '<a target=\"_blank\" href=https://colab.research.google.com/notebooks/data_table.ipynb>data table notebook</a>'\n",
              "            + ' to learn more about interactive tables.';\n",
              "          element.innerHTML = '';\n",
              "          dataTable['output_type'] = 'display_data';\n",
              "          await google.colab.output.renderOutput(dataTable, element);\n",
              "          const docLink = document.createElement('div');\n",
              "          docLink.innerHTML = docLinkHtml;\n",
              "          element.appendChild(docLink);\n",
              "        }\n",
              "      </script>\n",
              "    </div>\n",
              "  </div>\n",
              "  "
            ]
          },
          "metadata": {},
          "execution_count": 7
        }
      ],
      "source": [
        "df2 = pd.read_csv('data/rym_top_5000_all_time.csv')\n",
        "df2.head()"
      ],
      "id": "4c614dab-619c-455c-bd63-565ff79619e9"
    },
    {
      "cell_type": "code",
      "execution_count": null,
      "metadata": {
        "colab": {
          "base_uri": "https://localhost:8080/"
        },
        "id": "621c566f-64b4-47a7-be9b-f4869942bfcf",
        "outputId": "67b0254a-d2bb-40f8-b300-1187d9c85170"
      },
      "outputs": [
        {
          "output_type": "execute_result",
          "data": {
            "text/plain": [
              "((500, 6), (5000, 9))"
            ]
          },
          "metadata": {},
          "execution_count": 8
        }
      ],
      "source": [
        "df1.shape, df2.shape"
      ],
      "id": "621c566f-64b4-47a7-be9b-f4869942bfcf"
    },
    {
      "cell_type": "code",
      "execution_count": null,
      "metadata": {
        "colab": {
          "base_uri": "https://localhost:8080/",
          "height": 354
        },
        "id": "3e16e710-7e72-4c0b-9be0-f5a6dfa144f3",
        "outputId": "717b1e7f-ee8c-4dfd-f1c6-cab8220ae2d2"
      },
      "outputs": [
        {
          "output_type": "execute_result",
          "data": {
            "text/plain": [
              "                                   Album      Genre  \\\n",
              "0  Sgt. Pepper's Lonely Hearts Club Band       Rock   \n",
              "1                             Pet Sounds       Rock   \n",
              "2                               Revolver       Rock   \n",
              "3                   Highway 61 Revisited       Rock   \n",
              "4                            Rubber Soul  Rock, Pop   \n",
              "\n",
              "                                            Subgenre     Release Date  \\\n",
              "0  Rock & Roll, Psychedelic Rock, Psychedelic Pop...      1 June 1967   \n",
              "1            Pop Rock, Psychedelic Rock, Baroque Pop      16 May 1966   \n",
              "2        Psychedelic Rock, Pop Rock, Psychedelic Pop    5 August 1966   \n",
              "3           Folk Rock, Blues Rock, Singer/Songwriter   30 August 1965   \n",
              "4                                           Pop Rock  3 December 1965   \n",
              "\n",
              "                                         Descriptors  Average Rating  \\\n",
              "0  psychedelic, playful, melodic, male vocals, wa...            4.13   \n",
              "1  Wall of Sound, warm, bittersweet, love, romant...            4.18   \n",
              "2  psychedelic, melodic, male vocals, drugs, ecle...            4.23   \n",
              "3  poetic, cryptic, surreal, sarcastic, male voca...            4.17   \n",
              "4  melodic, love, male vocals, bittersweet, roman...            4.03   \n",
              "\n",
              "  Number of Ratings  Number of Reviews         Artists  \n",
              "0            43,576              863.0     The Beatles  \n",
              "1            36,305              727.0  The Beach Boys  \n",
              "2            43,178             1160.0     The Beatles  \n",
              "3            26,338              604.0       Bob Dylan  \n",
              "4            33,508              721.0     The Beatles  "
            ],
            "text/html": [
              "\n",
              "  <div id=\"df-7c985f1e-f43a-4cae-a38a-e94e5f4c58c8\">\n",
              "    <div class=\"colab-df-container\">\n",
              "      <div>\n",
              "<style scoped>\n",
              "    .dataframe tbody tr th:only-of-type {\n",
              "        vertical-align: middle;\n",
              "    }\n",
              "\n",
              "    .dataframe tbody tr th {\n",
              "        vertical-align: top;\n",
              "    }\n",
              "\n",
              "    .dataframe thead th {\n",
              "        text-align: right;\n",
              "    }\n",
              "</style>\n",
              "<table border=\"1\" class=\"dataframe\">\n",
              "  <thead>\n",
              "    <tr style=\"text-align: right;\">\n",
              "      <th></th>\n",
              "      <th>Album</th>\n",
              "      <th>Genre</th>\n",
              "      <th>Subgenre</th>\n",
              "      <th>Release Date</th>\n",
              "      <th>Descriptors</th>\n",
              "      <th>Average Rating</th>\n",
              "      <th>Number of Ratings</th>\n",
              "      <th>Number of Reviews</th>\n",
              "      <th>Artists</th>\n",
              "    </tr>\n",
              "  </thead>\n",
              "  <tbody>\n",
              "    <tr>\n",
              "      <th>0</th>\n",
              "      <td>Sgt. Pepper's Lonely Hearts Club Band</td>\n",
              "      <td>Rock</td>\n",
              "      <td>Rock &amp; Roll, Psychedelic Rock, Psychedelic Pop...</td>\n",
              "      <td>1 June 1967</td>\n",
              "      <td>psychedelic, playful, melodic, male vocals, wa...</td>\n",
              "      <td>4.13</td>\n",
              "      <td>43,576</td>\n",
              "      <td>863.0</td>\n",
              "      <td>The Beatles</td>\n",
              "    </tr>\n",
              "    <tr>\n",
              "      <th>1</th>\n",
              "      <td>Pet Sounds</td>\n",
              "      <td>Rock</td>\n",
              "      <td>Pop Rock, Psychedelic Rock, Baroque Pop</td>\n",
              "      <td>16 May 1966</td>\n",
              "      <td>Wall of Sound, warm, bittersweet, love, romant...</td>\n",
              "      <td>4.18</td>\n",
              "      <td>36,305</td>\n",
              "      <td>727.0</td>\n",
              "      <td>The Beach Boys</td>\n",
              "    </tr>\n",
              "    <tr>\n",
              "      <th>2</th>\n",
              "      <td>Revolver</td>\n",
              "      <td>Rock</td>\n",
              "      <td>Psychedelic Rock, Pop Rock, Psychedelic Pop</td>\n",
              "      <td>5 August 1966</td>\n",
              "      <td>psychedelic, melodic, male vocals, drugs, ecle...</td>\n",
              "      <td>4.23</td>\n",
              "      <td>43,178</td>\n",
              "      <td>1160.0</td>\n",
              "      <td>The Beatles</td>\n",
              "    </tr>\n",
              "    <tr>\n",
              "      <th>3</th>\n",
              "      <td>Highway 61 Revisited</td>\n",
              "      <td>Rock</td>\n",
              "      <td>Folk Rock, Blues Rock, Singer/Songwriter</td>\n",
              "      <td>30 August 1965</td>\n",
              "      <td>poetic, cryptic, surreal, sarcastic, male voca...</td>\n",
              "      <td>4.17</td>\n",
              "      <td>26,338</td>\n",
              "      <td>604.0</td>\n",
              "      <td>Bob Dylan</td>\n",
              "    </tr>\n",
              "    <tr>\n",
              "      <th>4</th>\n",
              "      <td>Rubber Soul</td>\n",
              "      <td>Rock, Pop</td>\n",
              "      <td>Pop Rock</td>\n",
              "      <td>3 December 1965</td>\n",
              "      <td>melodic, love, male vocals, bittersweet, roman...</td>\n",
              "      <td>4.03</td>\n",
              "      <td>33,508</td>\n",
              "      <td>721.0</td>\n",
              "      <td>The Beatles</td>\n",
              "    </tr>\n",
              "  </tbody>\n",
              "</table>\n",
              "</div>\n",
              "      <button class=\"colab-df-convert\" onclick=\"convertToInteractive('df-7c985f1e-f43a-4cae-a38a-e94e5f4c58c8')\"\n",
              "              title=\"Convert this dataframe to an interactive table.\"\n",
              "              style=\"display:none;\">\n",
              "        \n",
              "  <svg xmlns=\"http://www.w3.org/2000/svg\" height=\"24px\"viewBox=\"0 0 24 24\"\n",
              "       width=\"24px\">\n",
              "    <path d=\"M0 0h24v24H0V0z\" fill=\"none\"/>\n",
              "    <path d=\"M18.56 5.44l.94 2.06.94-2.06 2.06-.94-2.06-.94-.94-2.06-.94 2.06-2.06.94zm-11 1L8.5 8.5l.94-2.06 2.06-.94-2.06-.94L8.5 2.5l-.94 2.06-2.06.94zm10 10l.94 2.06.94-2.06 2.06-.94-2.06-.94-.94-2.06-.94 2.06-2.06.94z\"/><path d=\"M17.41 7.96l-1.37-1.37c-.4-.4-.92-.59-1.43-.59-.52 0-1.04.2-1.43.59L10.3 9.45l-7.72 7.72c-.78.78-.78 2.05 0 2.83L4 21.41c.39.39.9.59 1.41.59.51 0 1.02-.2 1.41-.59l7.78-7.78 2.81-2.81c.8-.78.8-2.07 0-2.86zM5.41 20L4 18.59l7.72-7.72 1.47 1.35L5.41 20z\"/>\n",
              "  </svg>\n",
              "      </button>\n",
              "      \n",
              "  <style>\n",
              "    .colab-df-container {\n",
              "      display:flex;\n",
              "      flex-wrap:wrap;\n",
              "      gap: 12px;\n",
              "    }\n",
              "\n",
              "    .colab-df-convert {\n",
              "      background-color: #E8F0FE;\n",
              "      border: none;\n",
              "      border-radius: 50%;\n",
              "      cursor: pointer;\n",
              "      display: none;\n",
              "      fill: #1967D2;\n",
              "      height: 32px;\n",
              "      padding: 0 0 0 0;\n",
              "      width: 32px;\n",
              "    }\n",
              "\n",
              "    .colab-df-convert:hover {\n",
              "      background-color: #E2EBFA;\n",
              "      box-shadow: 0px 1px 2px rgba(60, 64, 67, 0.3), 0px 1px 3px 1px rgba(60, 64, 67, 0.15);\n",
              "      fill: #174EA6;\n",
              "    }\n",
              "\n",
              "    [theme=dark] .colab-df-convert {\n",
              "      background-color: #3B4455;\n",
              "      fill: #D2E3FC;\n",
              "    }\n",
              "\n",
              "    [theme=dark] .colab-df-convert:hover {\n",
              "      background-color: #434B5C;\n",
              "      box-shadow: 0px 1px 3px 1px rgba(0, 0, 0, 0.15);\n",
              "      filter: drop-shadow(0px 1px 2px rgba(0, 0, 0, 0.3));\n",
              "      fill: #FFFFFF;\n",
              "    }\n",
              "  </style>\n",
              "\n",
              "      <script>\n",
              "        const buttonEl =\n",
              "          document.querySelector('#df-7c985f1e-f43a-4cae-a38a-e94e5f4c58c8 button.colab-df-convert');\n",
              "        buttonEl.style.display =\n",
              "          google.colab.kernel.accessAllowed ? 'block' : 'none';\n",
              "\n",
              "        async function convertToInteractive(key) {\n",
              "          const element = document.querySelector('#df-7c985f1e-f43a-4cae-a38a-e94e5f4c58c8');\n",
              "          const dataTable =\n",
              "            await google.colab.kernel.invokeFunction('convertToInteractive',\n",
              "                                                     [key], {});\n",
              "          if (!dataTable) return;\n",
              "\n",
              "          const docLinkHtml = 'Like what you see? Visit the ' +\n",
              "            '<a target=\"_blank\" href=https://colab.research.google.com/notebooks/data_table.ipynb>data table notebook</a>'\n",
              "            + ' to learn more about interactive tables.';\n",
              "          element.innerHTML = '';\n",
              "          dataTable['output_type'] = 'display_data';\n",
              "          await google.colab.output.renderOutput(dataTable, element);\n",
              "          const docLink = document.createElement('div');\n",
              "          docLink.innerHTML = docLinkHtml;\n",
              "          element.appendChild(docLink);\n",
              "        }\n",
              "      </script>\n",
              "    </div>\n",
              "  </div>\n",
              "  "
            ]
          },
          "metadata": {},
          "execution_count": 9
        }
      ],
      "source": [
        "df = pd.merge(df1, df2, on= 'Album', how='outer')\n",
        "all_genre = []\n",
        "for index, row in df.iterrows():\n",
        "  if type(row['Genre']) == str:\n",
        "    genre = row['Genre'].split(', ') #this is necessary for the cases where there are more genres for one album (like Rock, Pop for Rubber Soul)\n",
        "    for g in genre:\n",
        "      all_genre.append(g)\n",
        "\n",
        "for index, row in df.iterrows():\n",
        "  if type(row['Genres']) == str:\n",
        "    genres = row['Genres'].split(', ')\n",
        "    for g2 in genres:\n",
        "      if g2 in all_genre:\n",
        "          if pd.isna(row['Genre']):\n",
        "            df.loc[index,'Genre'] = g2\n",
        "          elif g2 not in row['Genre']:\n",
        "            df.loc[index, 'Genre'] += ', '+g2\n",
        "      else:\n",
        "        if pd.isna(row['Subgenre']):\n",
        "          df.loc[index,'Subgenre'] = g2\n",
        "        elif g2 not in row['Subgenre']:\n",
        "          df.loc[index, 'Subgenre'] += ', '+g2\n",
        "\n",
        "df['Artists'] = df['Artist'].combine_first(df['Artist Name'])\n",
        "df = df.drop(columns = ['Ranking', 'Number', 'Year', 'Genres','Artist','Artist Name'])\n",
        "df.head()\n"
      ],
      "id": "3e16e710-7e72-4c0b-9be0-f5a6dfa144f3"
    },
    {
      "cell_type": "markdown",
      "source": [
        "In order to handle the Genre-Subgenre-Genres I decided to maintain Genre and Subgenre of the first dataframe and divide Genres of the second into those two categories.\n",
        "\n",
        "I create a list where I put all the elements of 'Genre' of the first dataframe, then I iterate the elements of Genres and I check if the element is present in the list of Genre.\n",
        "\n",
        "If the current Genres value is present in the list I consider it as a Genre value, so if there is not a Genre value for the album, this Genres values become the Genre one, while if there are already one or more values, and the Genres one is different, I add it (if it is already present I just go on).\n",
        "\n",
        "If it is not present in the list I consider it as a Subgenre value, so if there is not a Subgenre value for the album, this Genres values become the Subgenre one, while if there are already one or more values, and the Genres one is different, I add it (if it is already present I just go on).\n",
        "\n",
        "Since the Artist category from the first dataframe and the Artist name from the second one are equivalent, I merge them into one Artists category\n",
        "Since Ranking and Number make sense only in their dataframes, I can eliminate them in the unified dataframe, while I decide to drop Year from the first dataframe and maintain Release Date from the second one, since it contains more or less the same information and it is related to much more albums.\n",
        "Since I divided Genres into Genre and Subgenre, and I created the new category Artists from Artist and Artist Name, I dropped those categories.\n"
      ],
      "metadata": {
        "id": "nN3iO52GjvwU"
      },
      "id": "nN3iO52GjvwU"
    },
    {
      "cell_type": "markdown",
      "metadata": {
        "id": "f6082a8d-8b55-4629-b270-2b139523c7b9"
      },
      "source": [
        "Create an RDFLib `Graph` and add triples from the data of the dataframes**\n",
        "\n",
        "For example, add triples like the following (but not only):\n",
        "\n",
        "- `[album] dbp:artist [artist]`,\n",
        "- `[album] rdfs:label [album_name]`,\n",
        "- `[album] rdf:type [genre]`\n",
        "\n",
        "Make sure you use URIs and Literals correctly."
      ],
      "id": "f6082a8d-8b55-4629-b270-2b139523c7b9"
    },
    {
      "cell_type": "code",
      "execution_count": null,
      "metadata": {
        "id": "d592ed0e-a0a5-47c4-932d-b8f7b4116ad1"
      },
      "outputs": [],
      "source": [
        "#I create the graph and define the namespace, binding them\n",
        "graph = Graph()\n",
        "DBP = Namespace('https://dbpedia.org/property/')\n",
        "DBR = Namespace('http://dbpedia.org/resource/')\n",
        "DBO = Namespace(\"http://dbpedia.org/ontology/\")\n",
        "ex = Namespace(\"http://example.org/\")\n",
        "graph.bind(\"\", ex)\n",
        "graph.bind(\"dbp\", DBP)\n",
        "graph.bind('dbo', DBO)\n",
        "graph.bind('dbr', DBR)"
      ],
      "id": "d592ed0e-a0a5-47c4-932d-b8f7b4116ad1"
    },
    {
      "cell_type": "code",
      "execution_count": null,
      "metadata": {
        "id": "V-cPcAkoa_gn"
      },
      "outputs": [],
      "source": [
        "#artist\n",
        "#I iterate through the dataframe, keeping as subject the Album and if the corresponding artist was present I added the triple\n",
        "#with it as object and DBP.artist as predicate (I use replace() so that the values could fit inside the dbpedia URIs)\n",
        "for index, row in df.iterrows():\n",
        "  subject = DBR[row['Album'].replace(' ', '_').replace('\"', '').replace('&','and')]\n",
        "  if type(row['Artists']) == str: #there can be NaN values which must not be considered\n",
        "    graph.add((subject, DBP.artist, DBR[row['Artists'].replace(' ', '_').replace('\"','')]))"
      ],
      "id": "V-cPcAkoa_gn"
    },
    {
      "cell_type": "code",
      "execution_count": null,
      "metadata": {
        "id": "daA_BuMMYYD_"
      },
      "outputs": [],
      "source": [
        "#genre\n",
        "for index, row in df.iterrows():\n",
        "  subject = DBR[row['Album'].replace(' ', '_').replace('\"', '').replace('&','and')]  #I always maintain as subject of the triple the Album items\n",
        "  string = ''\n",
        "  if type(row['Genre']) == str:\n",
        "    for letter in row['Genre'].replace(' / ', ', ').replace('&', 'and').replace(', and', ','): #I iterate all the letters in the Genre row so that I can replace the necessary characters (I divided Funk / Soul into two genres, in many cases the dbpedia URIs work with 'and' but not with &, and the last replace is for World, and Country)\n",
        "      string += letter          #add the letters to the string and I split it when there is a ,\n",
        "    obj = string.split(\", \")\n",
        "    new_obj = []  #create a list where I put the genre(s)\n",
        "    for element in obj:\n",
        "      element = element.replace(' ', '_') #this is needed so that cases like Hip Hop become Hip_Hop\n",
        "      new_obj.append(element)\n",
        "    for genre in new_obj:\n",
        "      graph.add((subject, DBP.genre, DBR[genre]))"
      ],
      "id": "daA_BuMMYYD_"
    },
    {
      "cell_type": "code",
      "execution_count": null,
      "metadata": {
        "id": "pezHqIrLZf9i"
      },
      "outputs": [],
      "source": [
        "#label\n",
        "#I do the same procedure as artist, but this time considering the object as a string, an XSD value\n",
        "for index, row in df.iterrows():\n",
        "  subject = DBR[row['Album'].replace(' ', '_').replace('\"', '').replace('&','and')]\n",
        "  graph.add((subject, RDFS.label, Literal(row['Album'], datatype=XSD.string)))"
      ],
      "id": "pezHqIrLZf9i"
    },
    {
      "cell_type": "code",
      "execution_count": null,
      "metadata": {
        "id": "WKxyZ96WZozK"
      },
      "outputs": [],
      "source": [
        "#subgenre\n",
        "#I do the same procedure as genre\n",
        "for index, row in df.iterrows():\n",
        "  subject = DBR[row['Album'].replace(' ', '_').replace('\"', '').replace('&','and')]\n",
        "  string = ''\n",
        "  if type(row['Subgenre']) == str:\n",
        "    for letter in row['Subgenre'].replace(' / ', ', ').replace('&', 'and').replace(', and', ','):\n",
        "      string += letter\n",
        "    obj = string.split(\", \")\n",
        "    new_obj = []\n",
        "    for element in obj:\n",
        "      element = element.replace(' ', '_')\n",
        "      new_obj.append(element)\n",
        "    for subgenre in new_obj:\n",
        "      graph.add((subject, DBP.subgenre, DBR[subgenre]))"
      ],
      "id": "WKxyZ96WZozK"
    },
    {
      "cell_type": "code",
      "execution_count": null,
      "metadata": {
        "id": "VpAQKjpxZ017"
      },
      "outputs": [],
      "source": [
        "#release date\n",
        "#I do the same procedure as label, but in this case it is a date and not a string\n",
        "for index, row in df.iterrows():\n",
        "  subject = DBR[row['Album'].replace(' ', '_').replace('\"', '').replace('&','and')]\n",
        "  if type(row['Release Date']) == str:\n",
        "    release_date = parser.parse(row['Release Date']).date()\n",
        "    graph.add((subject, ex.release_date, Literal(release_date, datatype=XSD.date)))"
      ],
      "id": "VpAQKjpxZ017"
    },
    {
      "cell_type": "code",
      "execution_count": null,
      "metadata": {
        "id": "r6VpVVQUElUp"
      },
      "outputs": [],
      "source": [
        "#average rating\n",
        "#Same procedure, this time an integer\n",
        "for index, row in df.iterrows():\n",
        "    subject = DBR[row['Album'].replace(' ', '_').replace('\"', '').replace('&','and')]\n",
        "    if not math.isnan(row['Average Rating']): #Since they are integer, I can avoid having Nan values with math.isnan()\n",
        "      graph.add((subject, ex.avg_rating, Literal(row['Average Rating'], datatype=XSD.integer)))"
      ],
      "id": "r6VpVVQUElUp"
    },
    {
      "cell_type": "code",
      "execution_count": null,
      "metadata": {
        "id": "RrlB70lBEp6T"
      },
      "outputs": [],
      "source": [
        "#number of ratings\n",
        "#Same procedure of the others\n",
        "for index, row in df.iterrows():\n",
        "  subject = DBR[row['Album'].replace(' ', '_').replace('\"', '').replace('&','and')]\n",
        "  if type(row['Number of Ratings']) == str: #Since there is the , I have to use type == string\n",
        "    num_rating = row['Number of Ratings'].replace(',','')\n",
        "    graph.add((subject, ex.num_rating, Literal(num_rating, datatype=XSD.integer)))"
      ],
      "id": "RrlB70lBEp6T"
    },
    {
      "cell_type": "code",
      "execution_count": null,
      "metadata": {
        "id": "T65blkQEEwen"
      },
      "outputs": [],
      "source": [
        "#number of reviews\n",
        "#Same procedure as before\n",
        "for index, row in df.iterrows():\n",
        "  subject = DBR[row['Album'].replace(' ', '_').replace('\"', '').replace('&','and')]\n",
        "  if not math.isnan(row['Number of Reviews']):\n",
        "    graph.add((subject, ex.num_reviews, Literal(int(row['Number of Reviews']), datatype=XSD.integer)))"
      ],
      "id": "T65blkQEEwen"
    },
    {
      "cell_type": "code",
      "execution_count": null,
      "metadata": {
        "id": "VK3Y8az-ExLa"
      },
      "outputs": [],
      "source": [
        "#descriptors\n",
        "#Same procedure as genre/subgenre, this time with the object as a string\n",
        "for index, row in df.iterrows():\n",
        "  subject = DBR[row['Album'].replace(' ', '_').replace('\"', '').replace('&','and')]\n",
        "  string = ''\n",
        "  if type(row['Descriptors']) == str:\n",
        "    for letter in row['Descriptors']:\n",
        "      string += letter\n",
        "    obj = string.split(\", \")\n",
        "    new_obj = []\n",
        "    for element in obj:\n",
        "      element = element.replace(' ', '_')\n",
        "      new_obj.append(element)\n",
        "    for descriptor in new_obj:\n",
        "      graph.add((subject, ex.descriptors, Literal(descriptor, datatype=XSD.string)))"
      ],
      "id": "VK3Y8az-ExLa"
    },
    {
      "cell_type": "code",
      "execution_count": null,
      "metadata": {
        "colab": {
          "base_uri": "https://localhost:8080/"
        },
        "id": "7fDgpLemKXFq",
        "outputId": "99accdf9-e351-468b-a7e3-da3782de004a"
      },
      "outputs": [
        {
          "output_type": "execute_result",
          "data": {
            "text/plain": [
              "<Graph identifier=Nedd8011fc77447d1b5af5ac5c5f9112b (<class 'rdflib.graph.Graph'>)>"
            ]
          },
          "metadata": {},
          "execution_count": 20
        }
      ],
      "source": [
        "graph.serialize(destination=\"data/1stGraph.ttl\", format='turtle')"
      ],
      "id": "7fDgpLemKXFq"
    },
    {
      "cell_type": "markdown",
      "metadata": {
        "id": "b65cd562"
      },
      "source": [
        "### **`2. Integrate your data with DBpedia's`**\n",
        "\n",
        "You MUST extend the knowledge you already have on your local KG with the following from DBpedia:\n",
        "- band members\n",
        "- city of birth of members\n",
        "- country of birth of members\n",
        "- founding city of the band\n",
        "- founding country of the band\n",
        "\n",
        "You can also add more information regarding albums (optional)\n",
        "\n",
        "\n",
        "\n",
        "Recommendations and hints:\n",
        "- How to find IRIs from DBpedia that match the entities in the local KG?\n",
        "  1) guessing the IRI with simple tricks:\n",
        "     - the album 'Rubber Soul' on DBpedia is `dbr:Rubber_Soul`, and this 'translation' may work for other albums (don't do it manually)\n",
        "     - the album 'Led Zeppelin' on DBpedia is `dbr:Led_Zeppelin_(album)` as the same name is also associated to the band\n",
        "  2) through their `rdfs:label`: for instance, the artist [Amy Winehouse](https://en.wikipedia.org/wiki/Amy_Winehouse) has 'Amy Winehouse' as label on DBpedia and therfore after the matching the IRI of the entity can be extracted\n",
        "  3) using the [DBpedia lookup endpoint](https://github.com/dbpedia/lookup). The following request tries to find the DBpedia entity for the artist [Fabrizio De Andrè](https://en.wikipedia.org/wiki/Fabrizio_De_Andr%C3%A9): https://lookup.dbpedia.org/api/search/KeywordSearch?QueryString=fabrizio%20de%20andre&format=json&MaxHits=5\n",
        "- restrict the search to entities of type 'Album', 'Band', 'Country', etc, in order to avoid overloading DBPedia's endpoint (see [here](http://mappings.dbpedia.org/server/ontology/classes/) for a list of DBPedia classes) and thus avoid high latency or being banned\n",
        "- note that sometimes useful properties to reach entities have the `dbp` prefix which is different from `dbo` ([more info](https://parklize.blogspot.com/2016/05/dbpedia-difference-between-dbo-and-dbp.html)). It's ok to use both\n",
        "- here is a **non-exaustive** list of useful properties: `dbp:hometown`, `dbo:birthPlace`, `dbo:country`, `dbo:formerBandMember`\n",
        "- how to find properties that link two entities of our interest?\n",
        "  1) by checking the [DBpedia ontology](https://akswnc7.informatik.uni-leipzig.de/dstreitmatter/archivo/dbpedia.org/ontology/2023.05.12-020000/ontology_type=parsed.owl) manually\n",
        "  2) by checking the DBpedia ontology with Protégé\n",
        "  3) using the DBpedia resource pages and exploiting your knowledge (or Wikipedia information). For instance, let us consider [Metallica](https://en.wikipedia.org/wiki/Metallica), I know that [Dave Mustaine](https://en.wikipedia.org/wiki/Dave_Mustaine) was a member, therefore I ask myself: How are these two entities linked in the DBpedia KG? On the [DBpedia page of Metallica](https://dbpedia.org/page/Metallica) we can find that the property used is `dbo:formerBandMember` thus I can use this property to get band members\n",
        "  4) running SPARQL queries like the following in the DBpedia endpoint:\n",
        "      ```\n",
        "      SELECT DISTINCT ?p\n",
        "      WHERE {\n",
        "        ?s a dbo:Band .\n",
        "        ?o a dbo:MusicalArtist .\n",
        "        ?s ?p ?o .\n",
        "      }\n",
        "      ```\n",
        "  5) if you are curious enough you can check [ABSTAT](http://abstat.disco.unimib.it/about.html), a tool for KG exploration with a nice interface\n",
        "- please notice that DBpedia is not perfect so is reccomendable to check the type of the candidates before including them"
      ],
      "id": "b65cd562"
    },
    {
      "cell_type": "code",
      "execution_count": null,
      "metadata": {
        "id": "ApRYu-c2Jrqy"
      },
      "outputs": [],
      "source": [
        "graph = Graph().parse(\"./data/1stGraph.ttl\")\n"
      ],
      "id": "ApRYu-c2Jrqy"
    },
    {
      "cell_type": "code",
      "execution_count": null,
      "metadata": {
        "id": "c00066d6"
      },
      "outputs": [],
      "source": [
        "artists = df['Artists'].dropna().unique()\n",
        "for artist in artists:\n",
        "  art = DBR[artist.replace(' ', '_').replace('\"', '').replace('&','and')]\n",
        "  cond = f\"{{ <{art}> a dbo:Band; dbo:bandMember ?b . optional {{<{art}> dbo:hometown ?h}} optional {{<{art}> dbo:hometown/dbo:country ?o}} optional {{?b dbo:birthPlace ?p}} optional {{?b dbo:birthPlace/dbo:country ?c}}}}\"\n",
        "  cond1 = f\"{{ <{art}> a dbo:Band; dbo:formerBandMember ?b . optional {{<{art}> dbo:hometown ?h}} optional {{<{art}> dbo:hometown/dbo:country ?o}} optional {{?b dbo:birthPlace ?p}} optional {{?b dbo:birthPlace/dbo:country ?c}}}}\"\n",
        "  q = f\"construct  {{ <{art}> a dbo:Band ; dbo:bandMember ?b ; dbp:hometown ?h ; dbo:origin ?o. ?b dbo:birthPlace ?p; dbo:country ?c}}\\nwhere {{ {cond} union\\n {cond1} }}\"\n",
        "  sparql.setQuery(q)\n",
        "  sparql.setReturnFormat(\"xml\")\n",
        "  results = sparql.query().convert()\n",
        "  if not results:\n",
        "    art1 = art + \"_(band)\"\n",
        "    cond = f\"{{ <{art1}> a dbo:Band; dbo:bandMember ?b . optional {{<{art1}> dbo:hometown ?h}} optional {{<{art1}> dbo:hometown/dbo:country ?o}} optional {{?b dbo:birthPlace ?p}} optional {{?b dbo:birthPlace/dbo:country ?c}}}}\"\n",
        "    cond1 = f\"{{ <{art1}> a dbo:Band; dbo:formerBandMember ?b . optional {{<{art1}> dbo:hometown ?h}} optional {{<{art1}> dbo:hometown/dbo:country ?o}} optional {{?b dbo:birthPlace ?p}} optional {{?b dbo:birthPlace/dbo:country ?c}}}}\"\n",
        "    q = f\"construct  {{ <{art}> a dbo:Band ; dbo:bandMember ?b ; dbp:hometown ?h ; dbo:origin ?o. ?b dbo:birthPlace ?p; dbo:country ?c}}\\nwhere {{ {cond} union\\n {cond1} }}\"\n",
        "    sparql.setQuery(q)\n",
        "    sparql.setReturnFormat(\"xml\")\n",
        "    results = sparql.query().convert()\n",
        "  graph += results"
      ],
      "id": "c00066d6"
    },
    {
      "cell_type": "markdown",
      "source": [
        "\n",
        "I drop the Nan values and to make the query faster I consider the artists just once with unique()\n",
        "\n",
        "For the query retrieving all the required information I define two similar condition and put them together with union. The difference between the two is that in cond1 there is dbo:bandMember and in cond2 dbo:formerBandMember,\n",
        "(which in the construct are all shown as dbo:bandMember). this is necessary to deal with all cases, like The Velvet Underground which have only former band member, The Rolling Stones which have both former and current band member or other cases where the artist is defined as a dbo:Band but has not band members.\n",
        "\n",
        "I use some property paths, for Origin (it is better in cases like The Rolling Stones where origin has as value 'London, England' while with the property path I get only the country), and for the country where the band members where born.\n",
        "\n",
        "Since there are artists like the Queen for which the corresponding dbpedia URI brings to the disambiguate page and returns nothing, I build another identical query, with the only difference that I add to the artist _(band), so that it is addressed correctly even for cases like that one.\n",
        "\n",
        "\n"
      ],
      "metadata": {
        "id": "GlUj6qax36Oo"
      },
      "id": "GlUj6qax36Oo"
    },
    {
      "cell_type": "code",
      "execution_count": null,
      "metadata": {
        "id": "XUiwpSZpgV2x",
        "colab": {
          "base_uri": "https://localhost:8080/"
        },
        "outputId": "faa97221-4df9-468d-968c-6ba71eaa54be"
      },
      "outputs": [
        {
          "output_type": "execute_result",
          "data": {
            "text/plain": [
              "<Graph identifier=Nc46ed922b1d447beb65aebab444093fb (<class 'rdflib.graph.Graph'>)>"
            ]
          },
          "metadata": {},
          "execution_count": 23
        }
      ],
      "source": [
        "graph.serialize(destination=\"data/queryGraph.ttl\")"
      ],
      "id": "XUiwpSZpgV2x"
    },
    {
      "cell_type": "markdown",
      "metadata": {
        "id": "6c66fbc6"
      },
      "source": [
        "### **`3. Gathering Information from unstructured data`**\n",
        "\n",
        "Knowledge can be gathered from unstructured data as well as structured data. A great encyclopaedic source is Wikipedia whose articles follow a very strict pattern. For instance, the first lines about a person are reserved for biographical data and his or her occupation, therefore we can exploit it to understand the role of a band member and add this information to our KG.\n",
        "\n",
        "In steps:\n",
        "1) get the article from Wikipedia and extract the summary. You can use [Wikipedia-api](https://pypi.org/project/Wikipedia-API/) (see the code below)\n",
        "2) extract the band member role (guitarist, bassist, keyboardist, singer, drummer, etc) using rules\n",
        "3) add this information to the KG\n",
        "\n",
        "Recommendations and hints:\n",
        "- some artists have multiple roles, add them all\n",
        "- some artists have multiple bands, it is not required to understand the role for each band, keep it simple.\n",
        "- extraction rules can be very simple (simple string matchers + if-else)  or more complex ones (e.g., regex, ChatGPT requests), it doesn't matter in terms of points.\n"
      ],
      "id": "6c66fbc6"
    },
    {
      "cell_type": "code",
      "source": [
        "graph = Graph().parse(\"./data/queryGraph.ttl\")"
      ],
      "metadata": {
        "id": "bbJAqGgxg8n_"
      },
      "id": "bbJAqGgxg8n_",
      "execution_count": null,
      "outputs": []
    },
    {
      "cell_type": "code",
      "execution_count": null,
      "metadata": {
        "id": "a2b3e872",
        "colab": {
          "base_uri": "https://localhost:8080/"
        },
        "outputId": "caf75994-9769-427b-c434-90f5c41935ad"
      },
      "outputs": [
        {
          "output_type": "stream",
          "name": "stdout",
          "text": [
            "Page - Summary: Kurt Donald Cobain (February 20, 1967 – c. April 5, 1994) was an American musician who was the co-founder, lead vocalist, guitarist and primary songwriter of the rock band Nirvana. Through his angst-f\n"
          ]
        }
      ],
      "source": [
        "\n",
        "wiki_wiki = wikipediaapi.Wikipedia('en')\n",
        "page_py = wiki_wiki.page('Kurt Cobain')\n",
        "\n",
        "if page_py.exists():\n",
        "    summary = page_py.summary[:200]\n",
        "    print(\"Page - Summary: %s\" % summary)\n",
        "else:\n",
        "    print(\"Page does not exist.\")"
      ],
      "id": "a2b3e872"
    },
    {
      "cell_type": "code",
      "execution_count": null,
      "metadata": {
        "id": "87b18550"
      },
      "outputs": [],
      "source": [
        "roles = ['singer', 'founder', 'co-founder', 'vocalist', 'leadvocalist', 'co-leadvocalist', 'songwriter','guitarist', 'bassist', 'drummer', 'keyboardist', 'pianist', 'saxophonist', 'trumpeter', 'trombonist', 'violinist', 'percussionist', 'lyricist', 'composer', 'producer']\n"
      ],
      "id": "87b18550"
    },
    {
      "cell_type": "code",
      "source": [
        "for s, p, o in graph.triples((None, DBO.bandMember, None)):\n",
        "  sleep(1)\n",
        "  parsed_bM = urlparse(o)\n",
        "  bandMember = parsed_bM.path.split('/')[-1].replace('_',' ')\n",
        "  if len(bandMember) > 0:\n",
        "    page_py = wiki_wiki.page(bandMember)\n",
        "    if page_py.exists():\n",
        "      summary = page_py.summary[:200]\n",
        "      summary = summary.replace(',','').replace('(','').replace(')','').replace('ad vo', 'advo')\n",
        "      for string in roles:\n",
        "        if string in summary.split():\n",
        "          string = string.replace('advo', 'ad vo')\n",
        "          graph.add((o, ex.role, Literal(string, datatype=XSD.string)))"
      ],
      "metadata": {
        "id": "a8w11JEtPZOV"
      },
      "id": "a8w11JEtPZOV",
      "execution_count": null,
      "outputs": []
    },
    {
      "cell_type": "markdown",
      "source": [
        "After having created the array with all the possible roles, I iterate through the triples with dbo:bandMember as predicate, considering the object (the band member). The object is a URI, so I divide it into its components, take the path and split it replacing the _ with a space in order to have the original string. There was just one case of an empty string, so I put len > 0.\n",
        "I iterate through the list of roles (in which I written leadvocalist and co-leadvocalist so that, unifying those letters also in the summary, if someone is a vocalist it doesn't identify him also a lead vocalist or a co-lead vocalist), and if there are roles matching with words in the summary it adds them to the graph.\n",
        "\n",
        "I need to add a time.sleep(1) because I have throttling issues.\n"
      ],
      "metadata": {
        "id": "5I3f5sO760XT"
      },
      "id": "5I3f5sO760XT"
    },
    {
      "cell_type": "code",
      "execution_count": null,
      "metadata": {
        "id": "23O4DL_Ge_bh",
        "colab": {
          "base_uri": "https://localhost:8080/"
        },
        "outputId": "ad8051ba-ffef-47af-cb86-0c75882844e8"
      },
      "outputs": [
        {
          "output_type": "execute_result",
          "data": {
            "text/plain": [
              "<Graph identifier=Ncbae3b92b2fe433db8f1b2cc73535983 (<class 'rdflib.graph.Graph'>)>"
            ]
          },
          "metadata": {},
          "execution_count": 28
        }
      ],
      "source": [
        "graph.serialize(destination=\"data/wikiGraph.ttl\")"
      ],
      "id": "23O4DL_Ge_bh"
    },
    {
      "cell_type": "markdown",
      "metadata": {
        "id": "03677112-ebe7-4ec8-9bfa-16380b6fcb60"
      },
      "source": [
        "### **`4. Include a small ontology and a  genres taxonomy`**\n",
        "\n",
        "Using RDFlib, add classes such as Person, MusicAlbum, and so on to your KG. Add the domain and range for each property you use.\n",
        "\n",
        "This will be needed later for inferring the types of the entities of your KG."
      ],
      "id": "03677112-ebe7-4ec8-9bfa-16380b6fcb60"
    },
    {
      "cell_type": "code",
      "source": [
        "graph = Graph().parse(\"./data/wikiGraph.ttl\")"
      ],
      "metadata": {
        "id": "Yx2aLqy-hQcm"
      },
      "id": "Yx2aLqy-hQcm",
      "execution_count": null,
      "outputs": []
    },
    {
      "cell_type": "code",
      "execution_count": null,
      "metadata": {
        "id": "6852286c-1b1e-4f92-af95-30c9a1f08711"
      },
      "outputs": [],
      "source": [
        "triples = [\n",
        "    (ex.Person, RDF.type, RDFS.Class),\n",
        "    (ex.BandMember, RDF.type, RDFS.Class),\n",
        "    (ex.MusicAlbum, RDF.type, RDFS.Class),\n",
        "    (ex.Genre, RDF.type, RDFS.Class),\n",
        "    (ex.Subgenre, RDF.type, RDFS.Class),\n",
        "    (ex.MusicalArtist, RDF.type, RDFS.Class),\n",
        "    (ex.Singer, RDF.type, RDFS.Class),\n",
        "    (ex.BandMember, RDFS.subClassOf, ex.Person),\n",
        "\n",
        "    (DBP.artist, RDF.type, RDF.Property),\n",
        "    (DBP.artist, RDFS.domain, ex.MusicAlbum),\n",
        "    (DBP.artist, RDFS.range, ex.MusicalArtist),\n",
        "\n",
        "    (DBP.genre, RDF.type, RDF.Property),\n",
        "    (DBP.genre, RDFS.domain, ex.MusicAlbum),\n",
        "    (DBP.genre, RDFS.range, ex.Genre),\n",
        "\n",
        "    (DBP.subgenre, RDF.type, RDF.Property),\n",
        "    (DBP.subgenre, RDFS.domain, ex.MusicAlbum),\n",
        "    (DBP.subgenre, RDFS.range, ex.Genre),\n",
        "\n",
        "    (RDFS.label, RDF.type, RDF.Property),\n",
        "    (RDFS.label, RDFS.domain, ex.MusicAlbum),\n",
        "    (RDFS.label, RDFS.range, XSD.string),\n",
        "\n",
        "    (ex.release_date, RDF.type, RDF.Property),\n",
        "    (ex.release_date, RDFS.domain, ex.MusicAlbum),\n",
        "    (ex.release_date, RDFS.range, XSD.date),\n",
        "\n",
        "    (ex.avg_rating, RDF.type, RDF.Property),\n",
        "    (ex.avg_rating, RDFS.domain, ex.MusicAlbum),\n",
        "    (ex.avg_rating, RDFS.range, XSD.integer),\n",
        "\n",
        "    (ex.num_rating, RDF.type, RDF.Property),\n",
        "    (ex.num_rating, RDFS.domain, ex.MusicAlbum),\n",
        "    (ex.num_rating, RDFS.range, XSD.integer),\n",
        "\n",
        "    (ex.num_reviews, RDF.type, RDF.Property),\n",
        "    (ex.num_reviews, RDFS.domain, ex.MusicAlbum),\n",
        "    (ex.num_reviews, RDFS.range, XSD.integer),\n",
        "\n",
        "    (ex.descriptors, RDF.type, RDF.Property),\n",
        "    (ex.descriptors, RDFS.domain, ex.MusicAlbum),\n",
        "    (ex.descriptors, RDFS.range, XSD.string),\n",
        "]\n",
        "for triple in triples:\n",
        "  graph.add(triple)"
      ],
      "id": "6852286c-1b1e-4f92-af95-30c9a1f08711"
    },
    {
      "cell_type": "markdown",
      "metadata": {
        "id": "06f89ab2-6eb5-4d14-9366-59f4da8603b2"
      },
      "source": [
        "Moreover, the first dataframe has 'Genre' and 'Subgenre' columns.\n",
        "Extract a genres taxonomy from the dataset and include it in your RDF KG. This will be needed later for inferring genres from subgenres.\n",
        "\n",
        "E.g.: add triples to the graph like:\n",
        "\n",
        "- `[subgenre] rdfs:subClassOf [genre]`.\n",
        "- `[album] rdf:type [genre]`.\n",
        "\n",
        "This should be done for all genres and subgenres (with an iteration, not manually)."
      ],
      "id": "06f89ab2-6eb5-4d14-9366-59f4da8603b2"
    },
    {
      "cell_type": "code",
      "execution_count": null,
      "metadata": {
        "id": "fae17a86-20ae-4ad1-aa92-f678dd6dc53a"
      },
      "outputs": [],
      "source": [
        "all_genre = list(set(all_genre))\n",
        "\n",
        "all_subgenre = []\n",
        "for index, row in df.iterrows():\n",
        "  if type(row['Subgenre']) == str:\n",
        "    subgenre = row['Subgenre'].split(', ')\n",
        "    for subg in subgenre:\n",
        "      all_subgenre.append(subg)\n",
        "\n",
        "all_subgenre = list(set(all_subgenre))\n",
        "\n",
        "for gen in all_genre:\n",
        "  for subgen in all_subgenre:\n",
        "    if gen in subgen:\n",
        "      gen = gen.replace(' ','_')\n",
        "      subgen = subgen.replace(' ','_')\n",
        "      graph.add((DBR[subgen], RDFS.subClassOf, DBR[gen]))\n",
        "\n",
        "for s, p, o in graph.triples((None, DBP.genre, None)):\n",
        "  graph.add((s, RDF.type, o))\n",
        "for s, p, o in graph.triples((None, DBP.subgenre, None)):\n",
        "  graph.add((s, RDF.type, o))"
      ],
      "id": "fae17a86-20ae-4ad1-aa92-f678dd6dc53a"
    },
    {
      "cell_type": "markdown",
      "source": [
        "I consider the all_genre list I created at the beginning, making it a set, so that I get the unique values, and then again a list.\n",
        "I also create an equal list for the subgenres.\n",
        "\n",
        "I iterate through the two lists in such a way that if an element in the list genre is present in an element of the list subgenre (e.g., Rock and Psychedelic Rock), then the element of the subgenre list is added to the graph as subClassof the element of the genre list.\n",
        "\n",
        "In order to add to the graph that the album are rdf:type the genres, since at the beginning I added them with the predicate dbp:genre/dbp:subgenre, I just iterate through those triple and duplicate them changing the predicate.\n"
      ],
      "metadata": {
        "id": "ezcW2m67CTlp"
      },
      "id": "ezcW2m67CTlp"
    },
    {
      "cell_type": "code",
      "source": [
        "graph.serialize(destination='data/ontGraph.ttl')"
      ],
      "metadata": {
        "id": "p3fbO-yl7cc7",
        "colab": {
          "base_uri": "https://localhost:8080/"
        },
        "outputId": "40d141b3-aac5-48fc-f215-4d3040544c4d"
      },
      "id": "p3fbO-yl7cc7",
      "execution_count": null,
      "outputs": [
        {
          "output_type": "execute_result",
          "data": {
            "text/plain": [
              "<Graph identifier=N05ca24b50cff46d9ba500e903ea8da4b (<class 'rdflib.graph.Graph'>)>"
            ]
          },
          "metadata": {},
          "execution_count": 32
        }
      ]
    },
    {
      "cell_type": "markdown",
      "metadata": {
        "id": "c84075ec"
      },
      "source": [
        "### **`5. Materialize inferences`**\n",
        "\n",
        "Add to your KG inferences that you can make from the data on your KG (e.g., with SPARQL queries, or with OWLRL, ...).\n",
        "\n",
        "**<ins>Some</ins>**  **<ins>examples</ins>**\n",
        "- if you have that `[album] rdf:type [genre1]` and `[genre1] rdfs:subClassOf [genre2]`, add the triple `[album] rdf:type [genre2]`. Same for domains, ranges, subclasses, subproperties, OWL features, etc.\n",
        "- if the nationality of a group member is missing, you can infer it from the nationality of the band\n",
        "\n",
        "Run a few SPARQL queries on the graph to see the inferred triples.\n"
      ],
      "id": "c84075ec"
    },
    {
      "cell_type": "code",
      "execution_count": null,
      "metadata": {
        "id": "b30047dc"
      },
      "outputs": [],
      "source": [
        "graph = Graph().parse(\"./data/ontGraph.ttl\")"
      ],
      "id": "b30047dc"
    },
    {
      "cell_type": "code",
      "source": [
        "g = \"\"\"insert {?member a :BandMember} \\nwhere {?x ns1:bandMember ?member}\"\"\"\n",
        "graph.update(g)\n",
        "owlrl.DeductiveClosure(owlrl.OWLRL_Semantics).expand(graph)\n",
        "q = \"\"\"insert {?member ns1:country ?c} \\nwhere {?band ns1:bandMember ?member; ns1:origin ?c . filter not exists {select ?member where {?member ns1:country ?cc}}}\"\"\"\n",
        "graph.update(q)\n",
        "h = \"\"\"insert {?bandMember :band ?band} \\nwhere {?band ns1:bandMember ?bandMember}\"\"\"\n",
        "graph.update(h)\n",
        "a = \"\"\"insert {?artist a :Singer} \\nwhere {?artist a :MusicalArtist . filter not exists {?artist a ns1:Band}}\"\"\"\n",
        "graph.update(a)\n"
      ],
      "metadata": {
        "id": "cGjoY9EFhrlK"
      },
      "id": "cGjoY9EFhrlK",
      "execution_count": null,
      "outputs": []
    },
    {
      "cell_type": "markdown",
      "source": [
        "I add inferences with the reasoner and four SPARQL queries.\n",
        "\n",
        "The important inference I get from the reasoner is that if an album is of rdf:type genre1, and genre1 is subclassof genre2, then the album is of type genre2.\n",
        "\n",
        "With the first query I add the class BandMember to all the band members, and the reasoner will then add to them also the class Person, since when I added the ontology I wrote that BandMember is subclassof Person.\n",
        "\n",
        "With the second query I added the country of a band member, if missing, from the nationality of his band.\n",
        "\n",
        "With the third query I add to the band members the corresponding band.\n",
        "\n",
        "With the fourth query I add the class Singer to the MusicalArtists which are not Bands.\n",
        "\n",
        "\n",
        "\n"
      ],
      "metadata": {
        "id": "gaNgLFWsgQYZ"
      },
      "id": "gaNgLFWsgQYZ"
    },
    {
      "cell_type": "code",
      "source": [
        "graph.serialize(destination = 'data/infGraph.ttl')"
      ],
      "metadata": {
        "id": "BtL13qbVht3l",
        "colab": {
          "base_uri": "https://localhost:8080/"
        },
        "outputId": "c0c14bfa-e1e8-467e-8aa7-e1b05b3793da"
      },
      "id": "BtL13qbVht3l",
      "execution_count": null,
      "outputs": [
        {
          "output_type": "execute_result",
          "data": {
            "text/plain": [
              "<Graph identifier=Nb83cb223c929406c958e19cb1190c888 (<class 'rdflib.graph.Graph'>)>"
            ]
          },
          "metadata": {},
          "execution_count": 35
        }
      ]
    },
    {
      "cell_type": "code",
      "source": [
        "check_inf1 = graph.query(\"select ?bandMember where {?bandMember a :BandMember} limit 300\")\n",
        "for bandMember in check_inf1:\n",
        "  bM = bandMember['bandMember'].split('/')[-1].replace('_', ' ')\n",
        "  print(f\"{bM}\")"
      ],
      "metadata": {
        "id": "Ie-sY3KCWLWQ"
      },
      "id": "Ie-sY3KCWLWQ",
      "execution_count": null,
      "outputs": []
    },
    {
      "cell_type": "code",
      "source": [
        "check_inf2 = graph.query(\"select ?artist where {?artist a :Singer} limit 300\")\n",
        "for artist in check_inf2:\n",
        "  art = artist['artist'].split('/')[-1].replace('_', ' ')\n",
        "  print(f\"{art}\")"
      ],
      "metadata": {
        "id": "czkS2fVrVAcm"
      },
      "id": "czkS2fVrVAcm",
      "execution_count": null,
      "outputs": []
    },
    {
      "cell_type": "markdown",
      "metadata": {
        "id": "954faa3c-172c-4bb8-8127-d90d2cb65906"
      },
      "source": [
        "### **`6. Query the Graph`**\n",
        "\n",
        "Query your graph in a way that:\n",
        "- the usefulness of having added information from dbpedia is highlighted\n",
        "- inference is exploited\n",
        "\n",
        "\n",
        "**<ins>Some</ins>**  **<ins>examples</ins>** with the intentions:\n",
        "\n",
        "\n",
        "| ID | Query | Intention/insight |\n",
        "|----|------|-------------------|\n",
        "| 1  | which bands have at least one member with a different nationality? | just curiosity |\n",
        "| 2  | Which are the artist with many bands? | to spot session musicians, long-career artists, 'eclectic' artists |\n",
        "| 3  | which are the countries with more [ Latin Rock ]( https://en.wikipedia.org/wiki/Latin_rock ) bands? and what about [ Black Metal ]( https://en.wikipedia.org/wiki/Black_metal )? | I suppose that latin rock is more popular in Latin America countries while Black Metal in Scandinavian countries, but I may be wrong! |\n",
        "| 4  | Is there any artist who is a member of both a [ Britpop ]( https://en.wikipedia.org/wiki/Britpop ) band and a [ Hip hop ]( https://en.wikipedia.org/wiki/Hip_hop_music ) band | maybe to spot bands/artists with a strong musical contamination? e.g., [Damon Albarn ](https://en.wikipedia.org/wiki/Damon_Albarn) |\n",
        "| 5  | Which is the city with more bands in absolute? and what if we consider only [ Grunge ]( https://en.wikipedia.org/wiki/Grunge )? | maybe to discover a music scene or just a very influential city. |\n",
        "| 6  | Give me some band/artist from the same city of [ 2Pac ]( https://en.wikipedia.org/wiki/Tupac_Shakur ) | could be a way to find similar musical artists. What about adding also a time period and the musical genre? |\n",
        "| 7  | which are the bands with Argentine and Spanish members? | maybe because I love both the Argentine and Spanish sound and I hope there is something that matches both? e.g., [Los Rodriguez](https://en.wikipedia.org/wiki/Los_Rodr%C3%ADguez) |\n",
        "\n",
        "\n",
        "\n",
        "\n",
        "**Feel free to play and get cool insights**"
      ],
      "id": "954faa3c-172c-4bb8-8127-d90d2cb65906"
    },
    {
      "cell_type": "code",
      "execution_count": null,
      "metadata": {
        "id": "309df903"
      },
      "outputs": [],
      "source": [
        "graph = Graph().parse(\"./data/infGraph.ttl\")"
      ],
      "id": "309df903"
    },
    {
      "cell_type": "code",
      "source": [
        "print(\"WHICH BANDS HAVE AT LEAST ONE MEMBER WITH A DIFFERENT NATIONALITY?\")\n",
        "answer_1 = graph.query(\"select ?band ?mem1 ?mem2 ?c1 ?c2 where {?band ns1:bandMember ?mem1,?mem2. ?mem1 ns1:country ?c1. ?mem2 ns1:country ?c2 . filter (?c1 != ?c2 && str(?mem1) > str(?mem2))}\")\n",
        "for answer in answer_1:\n",
        "  band = answer['band'].split('/')[-1].replace('_', ' ')\n",
        "  mem1 = answer['mem1'].split('/')[-1].replace('_', ' ')\n",
        "  mem2 = answer['mem2'].split('/')[-1].replace('_', ' ')\n",
        "  c1 = answer['c1'].split('/')[-1].replace('_', ' ')\n",
        "  c2 = answer['c2'].split('/')[-1].replace('_', ' ')\n",
        "  print(f\"The band {band} has band member {mem1} born in {c1} and band member {mem2} born in {c2}\")"
      ],
      "metadata": {
        "id": "Q1IDcCu6OW44"
      },
      "id": "Q1IDcCu6OW44",
      "execution_count": null,
      "outputs": []
    },
    {
      "cell_type": "code",
      "source": [
        "print(\"WHICH COUNTRIES HAVE MORE PSYCHEDELIC ROCK BANDS?\")\n",
        "answer_2 = graph.query(\"select ?country (count(?band) as ?numBand) where {?band ns1:origin ?country; a dbr:Psychedelic_Rock} group by ?country order by desc(?numBand)\")\n",
        "for answer in answer_2:\n",
        "  country = answer['country'].split('/')[-1].replace('_', ' ')\n",
        "  num_band = answer['numBand']\n",
        "  print(f\"{country} has {num_band} Psychedelic Rock bands\")"
      ],
      "metadata": {
        "id": "4bpkgBJSPVy0"
      },
      "id": "4bpkgBJSPVy0",
      "execution_count": null,
      "outputs": []
    },
    {
      "cell_type": "code",
      "source": [
        "print(\"WHICH ARE BANDS WITH BRAZILIAN AND AMERICAN MEMBERS?\")\n",
        "answer_3 = graph.query(\"select ?band ?mem1 ?mem2 where {?band ns1:bandMember ?mem1, ?mem2. ?mem1 ns1:country dbr:Brazil. ?mem2 ns1:country dbr:United_States}\")\n",
        "for answer in answer_3:\n",
        "  band = answer['band'].split('/')[-1].replace('_', ' ')\n",
        "  mem1 = answer['mem1'].split('/')[-1].replace('_', ' ')\n",
        "  mem2 = answer['mem2'].split('/')[-1].replace('_', ' ')\n",
        "  print(f\"{band} has {mem1} from Brazil and {mem2} from the United States\")\n"
      ],
      "metadata": {
        "id": "MoXKdoXzSn7p"
      },
      "id": "MoXKdoXzSn7p",
      "execution_count": null,
      "outputs": []
    },
    {
      "cell_type": "code",
      "source": [
        "print(\"WHICH ARE THE BANDS WITH THE MOST MEMBERS (FORMER MEMBERS INCLUDED)?\")\n",
        "answer_4 = graph.query(\"select ?band (count(?bandMember) as ?numMem) where {?band ns1:bandMember ?bandMember} group by ?band order by desc(?numMem)\")\n",
        "for answer in answer_4:\n",
        "  band = answer['band'].split('/')[-1].replace('_', ' ')\n",
        "  num_mem = answer['numMem']\n",
        "  print(f\"{band} has {num_mem} members\")\n"
      ],
      "metadata": {
        "id": "j5nHSESnUl4Y"
      },
      "id": "j5nHSESnUl4Y",
      "execution_count": null,
      "outputs": []
    },
    {
      "cell_type": "code",
      "source": [
        "print(\"WHICH BANDS HAVE OR HAVE HAD A PIANIST?\")\n",
        "answer_5 = graph.query(\"select ?band ?bandMember where {?band ns1:bandMember ?bandMember. ?bandMember :role \\\"pianist\\\"^^<http://www.w3.org/2001/XMLSchema#string>}\")\n",
        "for answer in answer_5:\n",
        "  band = answer['band'].split('/')[-1].replace('_', ' ')\n",
        "  bandMember = answer['bandMember'].split('/')[-1].replace('_', ' ')\n",
        "  print(f\"{band} have {bandMember} as pianist\")"
      ],
      "metadata": {
        "id": "5di9fApzU0Ql"
      },
      "id": "5di9fApzU0Ql",
      "execution_count": null,
      "outputs": []
    },
    {
      "cell_type": "code",
      "source": [
        "print(\"WHICH ARE THE ARTISTS BORN IN THE SAME CITY THEIR BAND WAS FOUNDED?\")\n",
        "answer_6 = graph.query(\"select ?bandMember ?band ?city where {?band ns1:bandMember ?bandMember. ?bandMember ns1:birthPlace ?city. ?band ns2:hometown ?hometown filter (?city = ?hometown) }\")\n",
        "for answer in answer_6:\n",
        "  artist = answer['bandMember'].split('/')[-1].replace('_', ' ')\n",
        "  band = answer['band'].split('/')[-1].replace('_', ' ')\n",
        "  city = answer['city'].split('/')[-1].replace('_', ' ')\n",
        "  print(f\"{artist} was born in {city}, where his band, {band}, was founded\")"
      ],
      "metadata": {
        "id": "CMX0oc83VCe5"
      },
      "id": "CMX0oc83VCe5",
      "execution_count": null,
      "outputs": []
    },
    {
      "cell_type": "code",
      "source": [
        "print(\"WHO ARE THE FUNK SINGERS?\")\n",
        "answer_7 = graph.query(\"select ?singer where {?album a dbr:Funk; dbp:artist ?singer. ?singer a :Singer}\")\n",
        "for answer in answer_7:\n",
        "  singer = answer['singer'].split('/')[-1].replace('_', ' ')\n",
        "  print(f\"{singer} is a funk singer\")"
      ],
      "metadata": {
        "id": "_J3B3T-EYfu1"
      },
      "id": "_J3B3T-EYfu1",
      "execution_count": null,
      "outputs": []
    },
    {
      "cell_type": "markdown",
      "metadata": {
        "id": "35e8e2ac"
      },
      "source": [
        "### **`Notes`**\n",
        "- attempts to enrich the data (e.g., using Wikipedia articles, other KGs and data sources) will be positively evaluated, but only if enrichment in steps 2 and 3 has been sufficiently explored\n",
        "- sometimes matching local entities with DBpedia entities is difficult: do not worry too much about that, we will give more importance to the choices and motivations rather than the end result of the matching\n",
        "- as you can see, the instructions leave enough freedom, however in case of non-obvious clarifications or technical issues contact me at renzo.alvaprincipe@unimib.it or use the course forum. Questions about how to do the exercise will be ignored\n",
        "- plagiarism will be **<ins>severely</ins>** punished for both parties"
      ],
      "id": "35e8e2ac"
    }
  ],
  "metadata": {
    "colab": {
      "provenance": [],
      "toc_visible": true,
      "include_colab_link": true
    },
    "ipub": {
      "titlepage": {
        "author": "Authors Name",
        "email": "authors@email.com",
        "institution": [
          "Institution1",
          "Institution2"
        ],
        "subtitle": "Sub-Title",
        "supervisors": [
          "First Supervisor",
          "Second Supervisor"
        ],
        "tagline": "A tagline for the report.",
        "title": "Main-Title"
      }
    },
    "kernelspec": {
      "display_name": "Python 3 (ipykernel)",
      "language": "python",
      "name": "python3"
    },
    "language_info": {
      "codemirror_mode": {
        "name": "ipython",
        "version": 3
      },
      "file_extension": ".py",
      "mimetype": "text/x-python",
      "name": "python",
      "nbconvert_exporter": "python",
      "pygments_lexer": "ipython3",
      "version": "3.9.5"
    }
  },
  "nbformat": 4,
  "nbformat_minor": 5
}